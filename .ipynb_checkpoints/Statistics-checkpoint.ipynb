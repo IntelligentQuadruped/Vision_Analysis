{
 "cells": [
  {
   "cell_type": "code",
   "execution_count": 88,
   "metadata": {
    "collapsed": true
   },
   "outputs": [],
   "source": [
    "import pandas as pd\n",
    "import numpy as np \n",
    "import os\n",
    "import matplotlib.mlab as mlab\n",
    "import matplotlib.pyplot as plt\n",
    "import seaborn\n",
    "\n",
    "def filterOutlier(data_list,z_score_threshold=3.5):\n",
    "\t\"\"\"\n",
    "\tFilters out outliers using the modified Z-Score method.\n",
    "\t\"\"\"\n",
    "\t# n = len(data_list)\n",
    "\t# z_score_threshold = (n-1)/np.sqrt(n)\n",
    "\tdata = np.array(data_list)\n",
    "\tmedian = np.median(data)\n",
    "\tdeviation = np.median([np.abs(x - median) for x in data])\n",
    "\tz_scores = [0.675*(x - median)/deviation for x in data]\n",
    "\tdata_out = data[np.where(np.abs(z_scores) < z_score_threshold)].tolist()\n",
    "\toutput = data_out if len(data_out) > 0 else data_list\n",
    "\treturn output\n",
    "\n",
    "data_dir = [\"./data/sample_obstacle_course\"]\n",
    "# data_dir = ['./windmachine']\n",
    "\n",
    "data = []\n",
    "for data_path in data_dir:\n",
    "    for f in os.listdir(data_path):\n",
    "        if \"d\" in f:\n",
    "            try:\n",
    "                path = os.path.join(data_path,f)\n",
    "                matrix = np.load(path)\n",
    "                matrix[matrix > 4000] = 0.0\n",
    "                nan = len(matrix[matrix < 1])\n",
    "                total = len(matrix.flatten())\n",
    "                result = 1 - nan/total\n",
    "                data.append(result)\n",
    "                # if True:\n",
    "                #     plt.figure()\n",
    "                #     plt.title(f)\n",
    "                #     plt.imshow(matrix)\n",
    "                #     plt.show()\n",
    "            except TypeError:\n",
    "                path = os.path.join(data_path,f)\n",
    "                d= np.load(path)\n",
    "                # for i in range(5):\n",
    "                #     s = 'arr_{}'.format(i+1)\n",
    "                s = 'arr_1'\n",
    "                matrix = d[s]\n",
    "                nan = len(matrix[matrix < 1])\n",
    "                total = len(matrix.flatten())\n",
    "                result = 1 - nan/total\n",
    "                data.append(result)\n",
    "                d.close()\n",
    "\n"
   ]
  },
  {
   "cell_type": "code",
   "execution_count": 89,
   "metadata": {},
   "outputs": [
    {
     "name": "stdout",
     "output_type": "stream",
     "text": [
      "[0.3932259114583333, 0.6301888020833333, 0.42250651041666665, 0.39485351562500004, 0.36089843749999995, 0.38500651041666667, 0.40374023437499995, 0.38688151041666663, 0.37723307291666663, 0.37966796875, 0.36004882812500005, 0.3885579427083333, 0.39791341145833337, 0.41855794270833335, 0.37113281249999996, 0.36710611979166663, 0.39001302083333333, 0.380146484375, 0.40511718750000003, 0.3915559895833334, 0.3920475260416667, 0.4053483072916667, 0.4256022135416667, 0.376572265625, 0.36972005208333336, 0.38937825520833336, 0.3711686197916667, 0.3714322916666667, 0.3629752604166666, 0.38073893229166667, 0.39175781249999997, 0.3871028645833333, 0.3907942708333333, 0.3756803385416667, 0.6179752604166666, 0.351708984375, 0.3735677083333333, 0.40713867187499997, 0.3888736979166667, 0.38099283854166666, 0.3637239583333334, 0.3800748697916667, 0.6326595052083333, 0.39737304687499997, 0.389892578125, 0.37627929687499995, 0.40317708333333335, 0.39241210937500004, 0.39200846354166663, 0.35833007812499995, 0.401865234375, 0.3888606770833334, 0.4186393229166666, 0.38731770833333334, 0.39966145833333333, 0.37683268229166667, 0.4180436197916667, 0.37835937500000005, 0.61826171875, 0.359130859375, 0.3953255208333334, 0.4156998697916666, 0.3891829427083333, 0.3800716145833334, 0.4148470052083333, 0.3614127604166667, 0.3944596354166666, 0.35552734374999995, 0.62669921875, 0.36856119791666664, 0.38590820312499996, 0.35775716145833336, 0.37792317708333334, 0.415166015625, 0.38736979166666663, 0.4974446614583333, 0.420791015625, 0.3800325520833333, 0.397841796875, 0.39087565104166666, 0.36547200520833334, 0.3853483072916667, 0.39175455729166664, 0.3910286458333333, 0.37614257812499996, 0.6078743489583334, 0.3724088541666667, 0.37002604166666664, 0.38925130208333336, 0.3859765625, 0.3589388020833333, 0.379658203125, 0.38716796875000004, 0.3906575520833333, 0.35819010416666663, 0.3874934895833333, 0.3830891927083333, 0.37753255208333336, 0.3876529947916667, 0.62359375, 0.42361002604166664, 0.39795572916666666, 0.40796549479166666, 0.3660611979166667, 0.3902213541666667, 0.38036783854166667, 0.3928776041666666, 0.3608528645833333, 0.42780273437500005, 0.36979492187499996, 0.39097981770833334, 0.39128906249999995, 0.3887239583333333, 0.41615885416666665, 0.4128125, 0.39660481770833333, 0.42292968750000004, 0.38151041666666663, 0.36958984375000004, 0.4820735677083333, 0.39451171875, 0.3592903645833333, 0.489599609375, 0.38550130208333333, 0.36537109375, 0.4050162760416667, 0.38827473958333336, 0.3583333333333333, 0.3809635416666667, 0.3656998697916667, 0.39122395833333334, 0.35639648437500004, 0.6321679687499999, 0.6344759114583334, 0.3949674479166667, 0.391572265625, 0.408671875, 0.38786132812499996, 0.35518880208333337, 0.3744498697916666, 0.3823046875, 0.387451171875, 0.3672428385416666, 0.39181966145833336, 0.3573697916666667, 0.4181901041666667, 0.3956477864583333, 0.38620442708333336, 0.3951497395833333, 0.38696940104166666, 0.4101041666666667, 0.38151041666666663, 0.39074869791666667, 0.42233723958333336, 0.3858138020833334, 0.3779850260416666, 0.38117187500000005, 0.46586914062499996, 0.40561848958333335, 0.5841536458333334, 0.5134537760416666, 0.38497395833333337, 0.3867057291666667, 0.35890625, 0.38930338541666665, 0.3563899739583334, 0.38498046875, 0.4090625, 0.3872688802083334, 0.3510970052083333, 0.38242513020833335, 0.40417317708333333, 0.38650065104166664, 0.359638671875, 0.3801497395833333, 0.5955696614583333, 0.5740592447916666, 0.5324251302083334, 0.37850911458333336, 0.36517578125000005, 0.352880859375, 0.4158463541666667, 0.40673502604166667, 0.40416341145833334, 0.46263020833333335, 0.3759440104166667, 0.3709798177083333, 0.383642578125, 0.3900390625, 0.42862304687499997, 0.3873046875, 0.38951497395833334, 0.3670703125, 0.41754882812500005, 0.40291015625000004, 0.4036100260416666, 0.373037109375, 0.3931412760416667, 0.4125325520833333, 0.38467447916666664, 0.38144856770833335, 0.3680501302083333, 0.5898567708333333, 0.364990234375, 0.39597005208333336, 0.3877278645833333, 0.34448893229166666, 0.374013671875, 0.41642252604166663, 0.38013020833333333, 0.3947623697916667, 0.384287109375, 0.37880533854166665, 0.5824967447916667, 0.572744140625, 0.38711588541666664, 0.391259765625, 0.588916015625, 0.550478515625, 0.348037109375, 0.3776985677083333, 0.41786783854166665, 0.36956054687499995, 0.3633040364583333, 0.39689453124999996, 0.39021809895833337, 0.3796614583333333, 0.37215169270833337, 0.3716438802083334, 0.391103515625, 0.4244466145833333, 0.3832389322916666, 0.40748697916666665, 0.3676432291666667, 0.458505859375, 0.38344401041666665, 0.36234374999999996, 0.3531022135416667, 0.54416015625, 0.583681640625, 0.590107421875, 0.40538411458333334, 0.3919010416666666, 0.3497493489583333, 0.3794401041666666, 0.3833235677083333, 0.3605240885416666, 0.3871451822916666, 0.3640559895833333, 0.37371093749999995, 0.4276790364583334, 0.3858040364583334, 0.39063151041666666, 0.39489908854166667, 0.415556640625, 0.40194661458333336, 0.40344401041666667, 0.4569010416666667, 0.4680826822916667, 0.4044791666666666, 0.418427734375, 0.38744466145833334, 0.38172526041666666, 0.38973958333333336, 0.3650618489583334, 0.382431640625, 0.3929622395833333, 0.3550553385416667, 0.4127864583333334, 0.3860416666666666, 0.355703125, 0.38600260416666665, 0.38702148437499995, 0.3895735677083333, 0.5193749999999999, 0.5799739583333333, 0.42284505208333334, 0.3665852864583333, 0.3497135416666667, 0.3780436197916667, 0.40083984375000004, 0.36480468749999995, 0.5630794270833333, 0.5853125, 0.388037109375, 0.38765950520833337, 0.40250976562499996, 0.3671126302083333, 0.4680924479166667, 0.385126953125, 0.36620768229166667, 0.37845377604166663, 0.4259505208333333, 0.3810904947916667, 0.3759440104166667, 0.39020507812500005, 0.41529947916666665, 0.384501953125, 0.377080078125, 0.39561848958333334, 0.3659537760416667, 0.38602213541666663, 0.36294921874999997, 0.4332552083333333, 0.4090950520833333, 0.40819986979166667, 0.5801009114583333, 0.5851334635416667, 0.39489908854166667, 0.3875065104166666, 0.381591796875, 0.5987076822916666, 0.3923795572916666, 0.363759765625, 0.38734049479166666, 0.4194791666666666, 0.36690755208333337, 0.3475716145833333, 0.3758463541666667]\n"
     ]
    }
   ],
   "source": [
    "# data = filterOutlier(data)\n",
    "data = np.array(data)\n",
    "data = data[abs(data - np.mean(data)) < 3 * np.std(data)].tolist()\n",
    "print(data)"
   ]
  },
  {
   "cell_type": "code",
   "execution_count": 90,
   "metadata": {},
   "outputs": [
    {
     "name": "stdout",
     "output_type": "stream",
     "text": [
      "0.344488932292\n"
     ]
    },
    {
     "data": {
      "text/plain": [
       "0    0.393226\n",
       "1    0.630189\n",
       "2    0.422507\n",
       "3    0.394854\n",
       "4    0.360898\n",
       "Name: Data Density, dtype: float64"
      ]
     },
     "execution_count": 90,
     "metadata": {},
     "output_type": "execute_result"
    }
   ],
   "source": [
    "series = pd.Series(data)\n",
    "series.name = 'Data Density'\n",
    "print(series.min())\n",
    "series.head()"
   ]
  },
  {
   "cell_type": "code",
   "execution_count": 91,
   "metadata": {},
   "outputs": [
    {
     "name": "stdout",
     "output_type": "stream",
     "text": [
      "<class 'pandas.core.series.Series'>\n"
     ]
    }
   ],
   "source": [
    "bins = pd.cut(series,20)\n",
    "histogram = bins.value_counts()\n",
    "print(type(histogram))"
   ]
  },
  {
   "cell_type": "code",
   "execution_count": 92,
   "metadata": {},
   "outputs": [
    {
     "name": "stdout",
     "output_type": "stream",
     "text": [
      "319\n"
     ]
    }
   ],
   "source": [
    "histogram.sort_index(inplace=True)\n",
    "total = sum(histogram)\n",
    "print(total)\n"
   ]
  },
  {
   "cell_type": "code",
   "execution_count": 93,
   "metadata": {},
   "outputs": [
    {
     "data": {
      "text/plain": [
       "CategoricalIndex([(0.344, 0.359], (0.359, 0.373], (0.373, 0.388],\n",
       "                  (0.388, 0.402], (0.402, 0.417], (0.417, 0.431],\n",
       "                  (0.431, 0.446],  (0.446, 0.46],  (0.46, 0.475],\n",
       "                  (0.475, 0.489], (0.489, 0.504], (0.504, 0.518],\n",
       "                  (0.518, 0.533], (0.533, 0.547], (0.547, 0.562],\n",
       "                  (0.562, 0.576], (0.576, 0.591], (0.591, 0.605],\n",
       "                   (0.605, 0.62],  (0.62, 0.634]],\n",
       "                 categories=[(0.344, 0.359], (0.359, 0.373], (0.373, 0.388], (0.388, 0.402], (0.402, 0.417], (0.417, 0.431], (0.431, 0.446], (0.446, 0.46], ...], ordered=True, dtype='category')"
      ]
     },
     "execution_count": 93,
     "metadata": {},
     "output_type": "execute_result"
    }
   ],
   "source": [
    "histogram.index"
   ]
  },
  {
   "cell_type": "code",
   "execution_count": 94,
   "metadata": {},
   "outputs": [
    {
     "name": "stdout",
     "output_type": "stream",
     "text": [
      "<map object at 0x112755be0>\n"
     ]
    }
   ],
   "source": [
    "hist = [x/total for x in histogram]\n",
    "span = series.max() - series.min()\n",
    "index = np.linspace(series.min(),series.max(),len(hist))\n",
    "index = map(lambda x: round(x,3),index)\n",
    "print(index)\n",
    "hist = pd.Series(hist,index=index)"
   ]
  },
  {
   "cell_type": "code",
   "execution_count": 95,
   "metadata": {},
   "outputs": [
    {
     "data": {
      "image/png": "[encoded data removed]",
      "text/plain": [
       "<matplotlib.figure.Figure at 0x116a55390>"
      ]
     },
     "metadata": {},
     "output_type": "display_data"
    }
   ],
   "source": [
    "plt.figure(\"Depth_Sensor_Performance\")\n",
    "hist.plot(kind='bar')\n",
    "plt.xlabel(\"Data Density\")\n",
    "plt.ylabel(\"Probability\")\n",
    "plt.title(\"Depth_Sensor_Performance: n=701,\")\n",
    "plt.show()"
   ]
  },
  {
   "cell_type": "code",
   "execution_count": null,
   "metadata": {
    "collapsed": true
   },
   "outputs": [],
   "source": []
  },
  {
   "cell_type": "code",
   "execution_count": null,
   "metadata": {
    "collapsed": true
   },
   "outputs": [],
   "source": []
  }
 ],
 "metadata": {
  "kernelspec": {
   "display_name": "Python 3",
   "language": "python",
   "name": "python3"
  },
  "language_info": {
   "codemirror_mode": {
    "name": "ipython",
    "version": 3
   },
   "file_extension": ".py",
   "mimetype": "text/x-python",
   "name": "python",
   "nbconvert_exporter": "python",
   "pygments_lexer": "ipython3",
   "version": "3.6.1"
  }
 },
 "nbformat": 4,
 "nbformat_minor": 2
}
